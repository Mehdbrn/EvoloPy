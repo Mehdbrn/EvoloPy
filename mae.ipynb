{
  "nbformat": 4,
  "nbformat_minor": 0,
  "metadata": {
    "colab": {
      "name": "mae.ipynb",
      "provenance": [],
      "authorship_tag": "ABX9TyP9saD27p4rtziAehSJhvFT",
      "include_colab_link": true
    },
    "kernelspec": {
      "name": "python3",
      "display_name": "Python 3"
    },
    "language_info": {
      "name": "python"
    }
  },
  "cells": [
    {
      "cell_type": "markdown",
      "metadata": {
        "id": "view-in-github",
        "colab_type": "text"
      },
      "source": [
        "<a href=\"https://colab.research.google.com/github/Mehdbrn/EvoloPy/blob/master/mae.ipynb\" target=\"_parent\"><img src=\"https://colab.research.google.com/assets/colab-badge.svg\" alt=\"Open In Colab\"/></a>"
      ]
    },
    {
      "cell_type": "markdown",
      "source": [
        "Prepare\n",
        "Check environment. Install packages if in Colab."
      ],
      "metadata": {
        "id": "sRU1ENQpDdnt"
      }
    },
    {
      "cell_type": "code",
      "execution_count": null,
      "metadata": {
        "id": "iIe47HHBDZrd"
      },
      "outputs": [],
      "source": [
        "import sys\n",
        "import os\n",
        "import requests\n",
        "\n",
        "import torch\n",
        "import numpy as np\n",
        "\n",
        "import matplotlib.pyplot as plt\n",
        "from PIL import Image\n",
        "\n",
        "# check whether run in Colab\n",
        "if 'google.colab' in sys.modules:\n",
        "    print('Running in Colab.')\n",
        "    !pip3 install timm==0.4.5  # 0.3.2 does not work in Colab\n",
        "    !git clone https://github.com/facebookresearch/mae.git\n",
        "    sys.path.append('./mae')\n",
        "else:\n",
        "    sys.path.append('..')\n",
        "import models_mae"
      ]
    },
    {
      "cell_type": "markdown",
      "source": [
        "Define utils"
      ],
      "metadata": {
        "id": "AOqXXA6uDp7I"
      }
    },
    {
      "cell_type": "code",
      "source": [
        "# define the utils\n",
        "\n",
        "imagenet_mean = np.array([0.485, 0.456, 0.406])\n",
        "imagenet_std = np.array([0.229, 0.224, 0.225])\n",
        "\n",
        "def show_image(image, title=''):\n",
        "    # image is [H, W, 3]\n",
        "    assert image.shape[2] == 3\n",
        "    plt.imshow(torch.clip((image * imagenet_std + imagenet_mean) * 255, 0, 255).int())\n",
        "    plt.title(title, fontsize=16)\n",
        "    plt.axis('off')\n",
        "    return\n",
        "\n",
        "def prepare_model(chkpt_dir, arch='mae_vit_large_patch16'):\n",
        "    # build model\n",
        "    model = getattr(models_mae, arch)()\n",
        "    # load model\n",
        "    checkpoint = torch.load(chkpt_dir, map_location='cpu')\n",
        "    msg = model.load_state_dict(checkpoint['model'], strict=False)\n",
        "    print(msg)\n",
        "    return model\n",
        "\n",
        "def run_one_image(img, model):\n",
        "    x = torch.tensor(img)\n",
        "\n",
        "    # make it a batch-like\n",
        "    x = x.unsqueeze(dim=0)\n",
        "    x = torch.einsum('nhwc->nchw', x)\n",
        "\n",
        "    # run MAE\n",
        "    loss, y, mask = model(x.float(), mask_ratio=0.75)\n",
        "    y = model.unpatchify(y)\n",
        "    y = torch.einsum('nchw->nhwc', y).detach().cpu()\n",
        "\n",
        "    # visualize the mask\n",
        "    mask = mask.detach()\n",
        "    mask = mask.unsqueeze(-1).repeat(1, 1, model.patch_embed.patch_size[0]**2 *3)  # (N, H*W, p*p*3)\n",
        "    mask = model.unpatchify(mask)  # 1 is removing, 0 is keeping\n",
        "    mask = torch.einsum('nchw->nhwc', mask).detach().cpu()\n",
        "    \n",
        "    x = torch.einsum('nchw->nhwc', x)\n",
        "\n",
        "    # masked image\n",
        "    im_masked = x * (1 - mask)\n",
        "\n",
        "    # MAE reconstruction pasted with visible patches\n",
        "    im_paste = x * (1 - mask) + y * mask\n",
        "\n",
        "    # make the plt figure larger\n",
        "    plt.rcParams['figure.figsize'] = [24, 24]\n",
        "\n",
        "    plt.subplot(1, 4, 1)\n",
        "    show_image(x[0], \"original\")\n",
        "\n",
        "    plt.subplot(1, 4, 2)\n",
        "    show_image(im_masked[0], \"masked\")\n",
        "\n",
        "    plt.subplot(1, 4, 3)\n",
        "    show_image(y[0], \"reconstruction\")\n",
        "\n",
        "    plt.subplot(1, 4, 4)\n",
        "    show_image(im_paste[0], \"reconstruction + visible\")\n",
        "\n",
        "    plt.show()"
      ],
      "metadata": {
        "id": "YGzb75UpDqvs"
      },
      "execution_count": null,
      "outputs": []
    },
    {
      "cell_type": "markdown",
      "source": [
        "Load an image"
      ],
      "metadata": {
        "id": "9mJKywMoDw45"
      }
    },
    {
      "cell_type": "code",
      "source": [
        "# load an image\n",
        "img_url = 'https://user-images.githubusercontent.com/11435359/147738734-196fd92f-9260-48d5-ba7e-bf103d29364d.jpg' # fox, from ILSVRC2012_val_00046145\n",
        "# img_url = 'https://user-images.githubusercontent.com/11435359/147743081-0428eecf-89e5-4e07-8da5-a30fd73cc0ba.jpg' # cucumber, from ILSVRC2012_val_00047851\n",
        "img = Image.open(requests.get(img_url, stream=True).raw)\n",
        "img = img.resize((224, 224))\n",
        "img = np.array(img) / 255.\n",
        "\n",
        "assert img.shape == (224, 224, 3)\n",
        "\n",
        "# normalize by ImageNet mean and std\n",
        "img = img - imagenet_mean\n",
        "img = img / imagenet_std\n",
        "\n",
        "plt.rcParams['figure.figsize'] = [5, 5]\n",
        "show_image(torch.tensor(img))"
      ],
      "metadata": {
        "id": "S7NfLF9UD1FB"
      },
      "execution_count": null,
      "outputs": []
    },
    {
      "cell_type": "markdown",
      "source": [
        "Load a pre-trained MAE model"
      ],
      "metadata": {
        "id": "vk8jlbFGEOub"
      }
    },
    {
      "cell_type": "code",
      "source": [
        "# This is an MAE model trained with pixels as targets for visualization (ViT-Large, training mask ratio=0.75)\n",
        "\n",
        "# download checkpoint if not exist\n",
        "!wget -nc https://dl.fbaipublicfiles.com/mae/visualize/mae_visualize_vit_large.pth\n",
        "\n",
        "chkpt_dir = 'mae_visualize_vit_large.pth'\n",
        "model_mae = prepare_model(chkpt_dir, 'mae_vit_large_patch16')\n",
        "print('Model loaded.')"
      ],
      "metadata": {
        "id": "GRDSo2NDEP1k"
      },
      "execution_count": null,
      "outputs": []
    },
    {
      "cell_type": "markdown",
      "source": [
        "Run MAE on the image"
      ],
      "metadata": {
        "id": "jhQikvHFESKM"
      }
    },
    {
      "cell_type": "code",
      "source": [
        "# make random mask reproducible (comment out to make it change)\n",
        "torch.manual_seed(2)\n",
        "print('MAE with pixel reconstruction:')\n",
        "run_one_image(img, model_mae)"
      ],
      "metadata": {
        "id": "5KrJfYsUEVAF"
      },
      "execution_count": null,
      "outputs": []
    },
    {
      "cell_type": "markdown",
      "metadata": {
        "id": "11071935-0eb9-4dde-ba3c-5d2b4bbc9856"
      },
      "source": [
        "### Load another pre-trained MAE model"
      ]
    },
    {
      "cell_type": "code",
      "source": [
        "# This is an MAE model trained with an extra GAN loss for more realistic generation (ViT-Large, training mask ratio=0.75)\n",
        "\n",
        "# download checkpoint if not exist\n",
        "!wget -nc https://dl.fbaipublicfiles.com/mae/visualize/mae_visualize_vit_large_ganloss.pth\n",
        "\n",
        "chkpt_dir = 'mae_visualize_vit_large_ganloss.pth'\n",
        "model_mae_gan = prepare_model('mae_visualize_vit_large_ganloss.pth', 'mae_vit_large_patch16')\n",
        "print('Model loaded.')"
      ],
      "metadata": {
        "id": "WT-PcwWnEkl1"
      },
      "execution_count": null,
      "outputs": []
    },
    {
      "cell_type": "markdown",
      "source": [
        "Run MAE on the image"
      ],
      "metadata": {
        "id": "C4DiHornEl2l"
      }
    },
    {
      "cell_type": "code",
      "source": [
        "# make random mask reproducible (comment out to make it change)\n",
        "torch.manual_seed(2)\n",
        "print('MAE with extra GAN loss:')\n",
        "run_one_image(img, model_mae_gan)"
      ],
      "metadata": {
        "id": "H8TptBfGEoud"
      },
      "execution_count": null,
      "outputs": []
    },
    {
      "cell_type": "markdown",
      "source": [
        ""
      ],
      "metadata": {
        "id": "zny94BL0EtON"
      }
    }
  ]
}